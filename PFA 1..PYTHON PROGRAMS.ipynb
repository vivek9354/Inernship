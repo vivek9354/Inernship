{
 "cells": [
  {
   "cell_type": "markdown",
   "id": "a24d73f8",
   "metadata": {},
   "source": [
    "#### Problem 11:Write a python program to find the factorial of a number.\n"
   ]
  },
  {
   "cell_type": "code",
   "execution_count": 1,
   "id": "a0f6f56a",
   "metadata": {},
   "outputs": [
    {
     "name": "stdout",
     "output_type": "stream",
     "text": [
      "Enter any number 7\n",
      "Factorial of the given number is: 5040\n"
     ]
    }
   ],
   "source": [
    "#Solution\n",
    "\n",
    "n=int(input(\"Enter any number \"))\n",
    "\n",
    "factorial=1\n",
    "\n",
    "if n>=1:\n",
    "    \n",
    "    for i in range(1,n+1):\n",
    "        factorial= factorial*i\n",
    "        \n",
    "    print(\"Factorial of the given number is:\",factorial)"
   ]
  },
  {
   "cell_type": "markdown",
   "id": "a0516435",
   "metadata": {},
   "source": [
    "\n",
    "\n",
    "####  Problem 12.Write a python program to find whether a number is prime or composite.\n"
   ]
  },
  {
   "cell_type": "code",
   "execution_count": 2,
   "id": "6dc521f0",
   "metadata": {},
   "outputs": [
    {
     "name": "stdout",
     "output_type": "stream",
     "text": [
      "Enter any number 4\n",
      "4 is not a prime number\n"
     ]
    }
   ],
   "source": [
    "#Solution\n",
    "\n",
    "num=int(input(\"Enter any number \"))\n",
    "\n",
    "if num>1:\n",
    "    \n",
    "    for i in range(2,num):\n",
    "        if num%i==0:\n",
    "            print(num,\"is not a prime number\")\n",
    "            break\n",
    "    \n",
    "    else:\n",
    "        print(num,\"is a prime number\")\n",
    "\n",
    "elif num==0 or 1:\n",
    "    print(num,\"is a neither prime nor composite number\")\n",
    "\n",
    "else:\n",
    "    print(num,\"is not a prime number it is composite number\")\n",
    "\n"
   ]
  },
  {
   "cell_type": "markdown",
   "id": "47aa259d",
   "metadata": {},
   "source": [
    "#### Problem 13. Write a python program to check whether a given string is palindrome or not.\n"
   ]
  },
  {
   "cell_type": "code",
   "execution_count": 3,
   "id": "c4883f7d",
   "metadata": {},
   "outputs": [
    {
     "name": "stdout",
     "output_type": "stream",
     "text": [
      "Enter your test here-dggd\n",
      "The string is a palindrome.\n"
     ]
    }
   ],
   "source": [
    "#Solution\n",
    "\n",
    "my_str = input(\"Enter your test here-\" )\n",
    "\n",
    "# make it suitable for caseless comparison,\n",
    "\n",
    "my_str = my_str.casefold()\n",
    "\n",
    "rev_str = reversed(my_str)  # reverse the string\n",
    "\n",
    "# check if the string is equal to its reverse\n",
    "\n",
    "if list(my_str) == list(rev_str):\n",
    "    print(\"The string is a palindrome.\")\n",
    "else:\n",
    "    print(\"The string is not a palindrome.\")\n"
   ]
  },
  {
   "cell_type": "markdown",
   "id": "0b7d37ff",
   "metadata": {},
   "source": [
    "#### Problem 14. Write a Python program to get the third side of right-angled triangle from two given sides.\n"
   ]
  },
  {
   "cell_type": "code",
   "execution_count": 6,
   "id": "e24a57a8",
   "metadata": {},
   "outputs": [
    {
     "name": "stdout",
     "output_type": "stream",
     "text": [
      "8.06225774829855\n"
     ]
    }
   ],
   "source": [
    "#Solution\n",
    "\n",
    "#for right angle we know that c=√(a*a+b*b) \n",
    "#Here c is hypotenuse and a,b are given sides.\n",
    "\n",
    "a = 7;\n",
    "b = 4;\n",
    "\n",
    "def find_c(a, b): \n",
    "\n",
    "    c = (((a*a) + (b*b))**(1/2));\n",
    "    return c;\n",
    "\n",
    "\n",
    "\n",
    "print(find_c(a,b))\n"
   ]
  },
  {
   "cell_type": "markdown",
   "id": "5812799f",
   "metadata": {},
   "source": [
    "#### Problem 15. Write a python program to print the frequency of each of the characters present in a given string."
   ]
  },
  {
   "cell_type": "code",
   "execution_count": 14,
   "id": "1ae97cda",
   "metadata": {},
   "outputs": [
    {
     "name": "stdout",
     "output_type": "stream",
     "text": [
      "Enter any stringerre\n",
      "Counter({'e': 2, 'r': 2})\n"
     ]
    }
   ],
   "source": [
    "#Solution\n",
    "\n",
    "from collections import Counter\n",
    "\n",
    "\n",
    "my_str = input(\"Enter any string\")\n",
    "\n",
    "output = Counter(my_str)\n",
    "\n",
    "print(output)"
   ]
  },
  {
   "cell_type": "code",
   "execution_count": null,
   "id": "8002f4ff",
   "metadata": {},
   "outputs": [],
   "source": []
  },
  {
   "cell_type": "raw",
   "id": "07d44e67",
   "metadata": {},
   "source": []
  },
  {
   "cell_type": "code",
   "execution_count": null,
   "id": "d40abd89",
   "metadata": {},
   "outputs": [],
   "source": []
  },
  {
   "cell_type": "code",
   "execution_count": null,
   "id": "d5985013",
   "metadata": {},
   "outputs": [],
   "source": []
  }
 ],
 "metadata": {
  "kernelspec": {
   "display_name": "Python 3 (ipykernel)",
   "language": "python",
   "name": "python3"
  },
  "language_info": {
   "codemirror_mode": {
    "name": "ipython",
    "version": 3
   },
   "file_extension": ".py",
   "mimetype": "text/x-python",
   "name": "python",
   "nbconvert_exporter": "python",
   "pygments_lexer": "ipython3",
   "version": "3.9.12"
  }
 },
 "nbformat": 4,
 "nbformat_minor": 5
}
